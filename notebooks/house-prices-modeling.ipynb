{
 "cells": [
  {
   "cell_type": "code",
   "execution_count": 30,
   "id": "8fb7d3dc-e8d9-459d-8ede-61865e2ea956",
   "metadata": {},
   "outputs": [
    {
     "name": "stdout",
     "output_type": "stream",
     "text": [
      "Requirement already satisfied: pandas in c:\\users\\adhav\\.conda\\envs\\myenv\\lib\\site-packages (2.2.3)\n",
      "Requirement already satisfied: numpy>=1.26.0 in c:\\users\\adhav\\.conda\\envs\\myenv\\lib\\site-packages (from pandas) (1.26.4)\n",
      "Requirement already satisfied: python-dateutil>=2.8.2 in c:\\users\\adhav\\.conda\\envs\\myenv\\lib\\site-packages (from pandas) (2.9.0.post0)\n",
      "Requirement already satisfied: pytz>=2020.1 in c:\\users\\adhav\\.conda\\envs\\myenv\\lib\\site-packages (from pandas) (2024.1)\n",
      "Requirement already satisfied: tzdata>=2022.7 in c:\\users\\adhav\\.conda\\envs\\myenv\\lib\\site-packages (from pandas) (2024.2)\n",
      "Requirement already satisfied: six>=1.5 in c:\\users\\adhav\\.conda\\envs\\myenv\\lib\\site-packages (from python-dateutil>=2.8.2->pandas) (1.17.0)\n",
      "Note: you may need to restart the kernel to use updated packages.\n"
     ]
    }
   ],
   "source": [
    "pip install pandas"
   ]
  },
  {
   "cell_type": "code",
   "execution_count": 31,
   "id": "99ca9153-8006-4883-8e62-bb1485adcff6",
   "metadata": {},
   "outputs": [
    {
     "name": "stdout",
     "output_type": "stream",
     "text": [
      "Requirement already satisfied: numpy in c:\\users\\adhav\\.conda\\envs\\myenv\\lib\\site-packages (1.26.4)\n",
      "Note: you may need to restart the kernel to use updated packages.\n"
     ]
    }
   ],
   "source": [
    "pip install numpy"
   ]
  },
  {
   "cell_type": "code",
   "execution_count": 32,
   "id": "28885738-10e2-4f4b-b42e-a2c07dce666a",
   "metadata": {},
   "outputs": [
    {
     "name": "stdout",
     "output_type": "stream",
     "text": [
      "Requirement already satisfied: scikit-learn in c:\\users\\adhav\\.conda\\envs\\myenv\\lib\\site-packages (1.6.1)\n",
      "Requirement already satisfied: numpy>=1.19.5 in c:\\users\\adhav\\.conda\\envs\\myenv\\lib\\site-packages (from scikit-learn) (1.26.4)\n",
      "Requirement already satisfied: scipy>=1.6.0 in c:\\users\\adhav\\.conda\\envs\\myenv\\lib\\site-packages (from scikit-learn) (1.15.2)\n",
      "Requirement already satisfied: joblib>=1.2.0 in c:\\users\\adhav\\.conda\\envs\\myenv\\lib\\site-packages (from scikit-learn) (1.4.2)\n",
      "Requirement already satisfied: threadpoolctl>=3.1.0 in c:\\users\\adhav\\.conda\\envs\\myenv\\lib\\site-packages (from scikit-learn) (3.5.0)\n",
      "Note: you may need to restart the kernel to use updated packages.\n"
     ]
    }
   ],
   "source": [
    "pip install scikit-learn"
   ]
  },
  {
   "cell_type": "code",
   "execution_count": 33,
   "id": "ab0ee888-a5ca-46df-b968-21665b3503a2",
   "metadata": {},
   "outputs": [],
   "source": [
    "import os\n",
    "import numpy as np\n",
    "import pandas as pd\n",
    "from sklearn.model_selection import train_test_split\n",
    "from sklearn.preprocessing import StandardScaler, OneHotEncoder\n",
    "from sklearn.compose import ColumnTransformer\n",
    "from sklearn.pipeline import Pipeline\n",
    "from sklearn.linear_model import LinearRegression\n",
    "from sklearn.metrics import mean_squared_log_error"
   ]
  },
  {
   "cell_type": "code",
   "execution_count": 34,
   "id": "fd4e56c4-0741-49b5-a644-cc8e36172e79",
   "metadata": {},
   "outputs": [],
   "source": [
    "train_file = \"train.csv\"\n",
    "test_file = \"test.csv\"\n",
    "sample_submission_file = \"sample_submission.csv\""
   ]
  },
  {
   "cell_type": "code",
   "execution_count": 35,
   "id": "af6a989e-9428-4229-bd0a-ccb4c2b60fe2",
   "metadata": {},
   "outputs": [],
   "source": [
    "train = pd.read_csv(train_file)\n",
    "test = pd.read_csv(test_file)\n",
    "sample_submission = pd.read_csv(sample_submission_file)"
   ]
  },
  {
   "cell_type": "code",
   "execution_count": 36,
   "id": "75e07467-b78c-4622-94b2-78616894d3d6",
   "metadata": {},
   "outputs": [],
   "source": [
    "continuous_features = [\"GrLivArea\", \"LotArea\"]\n",
    "categorical_features = [\"Neighborhood\", \"HouseStyle\"]\n",
    "target = \"SalePrice\""
   ]
  },
  {
   "cell_type": "code",
   "execution_count": 37,
   "id": "a426786b-16da-47a7-b886-82be3ab7219d",
   "metadata": {},
   "outputs": [],
   "source": [
    "missing_columns = [col for col in continuous_features + categorical_features + [target] if col not in train.columns]\n",
    "if missing_columns:\n",
    "    raise KeyError(f\"The following columns are missing from the train dataset: {missing_columns}\")"
   ]
  },
  {
   "cell_type": "code",
   "execution_count": 38,
   "id": "714d7cf3-607f-4213-ab77-21eb4bb20250",
   "metadata": {},
   "outputs": [],
   "source": [
    "X_train_full = train[continuous_features + categorical_features]\n",
    "y_train_full = train[target]"
   ]
  },
  {
   "cell_type": "code",
   "execution_count": 39,
   "id": "6a90a370-39b5-4fa4-8e12-3b3db984c859",
   "metadata": {},
   "outputs": [],
   "source": [
    "X_train_full = X_train_full.fillna(X_train_full.median(numeric_only=True))\n",
    "y_train_full = y_train_full.fillna(y_train_full.median())\n",
    "test = test.fillna(test.median(numeric_only=True))"
   ]
  },
  {
   "cell_type": "code",
   "execution_count": 40,
   "id": "476fc4ce-b0d4-4c65-8193-29a3ec3d5421",
   "metadata": {},
   "outputs": [],
   "source": [
    "numeric_transformer = StandardScaler()\n",
    "categorical_transformer = OneHotEncoder(handle_unknown=\"ignore\")"
   ]
  },
  {
   "cell_type": "code",
   "execution_count": 41,
   "id": "daf7ac68-7c3f-4704-a172-a46e82c6a871",
   "metadata": {},
   "outputs": [],
   "source": [
    "preprocessor = ColumnTransformer(transformers=[(\"num\", numeric_transformer, continuous_features),(\"cat\", categorical_transformer, categorical_features)])"
   ]
  },
  {
   "cell_type": "code",
   "execution_count": 42,
   "id": "948768b3-06ad-47b6-b51c-2ea8e5f06770",
   "metadata": {},
   "outputs": [],
   "source": [
    "model = Pipeline(steps=[(\"preprocessor\", preprocessor),(\"regressor\", LinearRegression())])"
   ]
  },
  {
   "cell_type": "code",
   "execution_count": 43,
   "id": "af46820d-4846-455d-b4f8-ce98f4b7d5b4",
   "metadata": {},
   "outputs": [],
   "source": [
    "X_train, X_val, y_train, y_val = train_test_split(X_train_full, y_train_full, test_size=0.2, random_state=42)\n",
    "model.fit(X_train, y_train)\n",
    "y_val_pred = model.predict(X_val)"
   ]
  },
  {
   "cell_type": "code",
   "execution_count": 44,
   "id": "f2fa0fef-392c-4c64-ab6d-d2611c24a656",
   "metadata": {},
   "outputs": [
    {
     "name": "stdout",
     "output_type": "stream",
     "text": [
      "Validation RMSLE: 0.2\n"
     ]
    }
   ],
   "source": [
    "def compute_rmsle(y_true: np.ndarray, y_pred: np.ndarray, precision: int = 2) -> float:\n",
    "    rmsle = np.sqrt(mean_squared_log_error(y_true, y_pred))\n",
    "    return round(rmsle, precision)\n",
    "\n",
    "rmsle = compute_rmsle(y_val, y_val_pred)\n",
    "print(\"Validation RMSLE:\", rmsle)"
   ]
  },
  {
   "cell_type": "code",
   "execution_count": 45,
   "id": "2d410c7d-365b-4ec1-a61e-5daab11f5834",
   "metadata": {},
   "outputs": [],
   "source": [
    "X_test = test[continuous_features + categorical_features]\n",
    "test_predictions = model.predict(X_test)"
   ]
  },
  {
   "cell_type": "code",
   "execution_count": 46,
   "id": "d06a792f-f3a3-4892-aeee-af3428ee48d6",
   "metadata": {},
   "outputs": [
    {
     "name": "stdout",
     "output_type": "stream",
     "text": [
      "Submission file saved as submission.csv\n"
     ]
    }
   ],
   "source": [
    "output_file = \"submission.csv\"\n",
    "print(f\"Submission file saved as {output_file}\")"
   ]
  },
  {
   "cell_type": "code",
   "execution_count": null,
   "id": "b4ec49df-8c1d-4d19-aa83-8f3c8f4918a4",
   "metadata": {},
   "outputs": [],
   "source": []
  },
  {
   "cell_type": "code",
   "execution_count": null,
   "id": "b1649bd8-85bb-4e05-a2f6-17c3da3de62f",
   "metadata": {},
   "outputs": [],
   "source": []
  }
 ],
 "metadata": {
  "kernelspec": {
   "display_name": "Python 3 (ipykernel)",
   "language": "python",
   "name": "python3"
  },
  "language_info": {
   "codemirror_mode": {
    "name": "ipython",
    "version": 3
   },
   "file_extension": ".py",
   "mimetype": "text/x-python",
   "name": "python",
   "nbconvert_exporter": "python",
   "pygments_lexer": "ipython3",
   "version": "3.12.8"
  }
 },
 "nbformat": 4,
 "nbformat_minor": 5
}
